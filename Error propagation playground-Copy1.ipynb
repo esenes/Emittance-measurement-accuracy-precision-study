{
 "cells": [
  {
   "cell_type": "markdown",
   "metadata": {},
   "source": [
    "It looks that the **uncertainties** package is ok for funzioni linearizzabili nell'intorno di dove sono calcolate --> aka vanno bene per errori piccoli \n",
    "\n",
    "Per roba piú raffinata vedi:\n",
    "- **soerp**: second order error propagation --> apparently is still fast\n",
    "- **mcerp**: monte carlo error propagation\n",
    "\n",
    "TODOs:\n",
    "- is the emittance function linear ? (do some plots)"
   ]
  },
  {
   "cell_type": "code",
   "execution_count": 5,
   "metadata": {},
   "outputs": [],
   "source": [
    "import numpy as np\n",
    "import matplotlib.pyplot as plt\n",
    "%matplotlib inline"
   ]
  },
  {
   "cell_type": "code",
   "execution_count": 60,
   "metadata": {},
   "outputs": [
    {
     "name": "stdout",
     "output_type": "stream",
     "text": [
      "[[ 0.00353429  0.00343594]\n",
      " [ 0.00343594  0.00343502]]\n",
      "(array([  3.16410476e-06,   2.52637164e-06,   3.06357506e-06,\n",
      "         2.64906725e-06,   2.65593977e-06,   1.54646467e-06,\n",
      "         1.83882260e-06,   1.88743572e-06,   1.10224517e-06,\n",
      "         1.40929834e-06,   1.47653059e-06,   9.36467384e-07,\n",
      "         6.85754284e-07,   5.68012908e-07,   7.75257494e-07,\n",
      "         4.80465643e-07,   6.11248935e-07,   4.09816084e-07,\n",
      "         3.27013055e-07,   2.63733446e-07,   2.86280977e-07,\n",
      "         2.26511621e-07,   4.97920126e-07,   2.10408479e-07,\n",
      "         9.79041451e-08,   9.65880800e-08,   4.46804912e-08,\n",
      "         2.90691617e-08,   1.86602724e-08,   6.23524761e-08,\n",
      "         1.27647595e-08,   2.52039990e-08,   1.05795999e-08,\n",
      "         1.36088207e-08,   2.99626510e-09,   2.72466680e-09,\n",
      "         4.67477415e-09,   1.99806295e-09,   4.78885296e-09,\n",
      "         6.68265364e-10,   6.14304283e-10,   9.82390968e-11,\n",
      "         2.87720485e-09,   3.93920637e-10,   3.25993838e-10,\n",
      "         2.02654681e-10,   2.11901782e-11,   3.84962696e-11,\n",
      "         5.05653946e-12,   5.90976372e-10,   8.36802016e-12,\n",
      "         7.42557701e-11,   1.13631406e-12,   7.95725527e-11,\n",
      "         2.23255641e-10,   4.58602281e-09,   3.66197460e-11,\n",
      "         6.57471939e-10,   1.73809025e-09,   1.07884084e-09,\n",
      "         3.70520681e-10,   6.64880363e-09,   8.82628626e-10,\n",
      "         2.01296347e-09,   2.96969496e-09,   4.65094175e-09,\n",
      "         3.64268682e-08,   5.10180111e-08,   1.46888188e-08,\n",
      "         3.12693366e-08,   3.61887327e-08,   4.77998228e-08,\n",
      "         5.29692275e-08,   5.17857938e-08,   1.25130446e-07,\n",
      "         1.04510958e-07,   5.91914204e-08,   1.94652866e-07,\n",
      "         3.46225386e-07,   1.75125187e-07,   4.57257231e-07,\n",
      "         2.66014471e-07,   5.60420619e-07,   4.00029483e-07,\n",
      "         1.12086985e-06,   4.32606020e-07,   6.40030840e-07,\n",
      "         6.33975463e-07,   1.20987908e-06,   1.44526859e-06,\n",
      "         1.72713992e-06,   2.48553663e-06,   1.17445346e-06,\n",
      "         1.76920465e-06,   1.95968914e-06,   2.42970093e-06,\n",
      "         1.88724289e-06,   3.17251653e-06,   3.18947881e-06,\n",
      "         2.99048883e-06]), array([  3.73154294e-07,   3.15488633e-07,   3.84041588e-07,\n",
      "         3.23643473e-07,   3.53419621e-07,   2.04365610e-07,\n",
      "         2.20985309e-07,   2.51034125e-07,   1.44099746e-07,\n",
      "         1.79456495e-07,   2.20985448e-07,   1.10466533e-07,\n",
      "         8.69382471e-08,   7.59353460e-08,   1.04066367e-07,\n",
      "         5.82375905e-08,   8.62692255e-08,   4.85181214e-08,\n",
      "         3.86170799e-08,   3.16926361e-08,   3.61917797e-08,\n",
      "         2.74957743e-08,   1.37874181e-07,   3.30591314e-08,\n",
      "         1.26230529e-08,   1.13822701e-08,   9.53812147e-09,\n",
      "         8.30436450e-09,   6.98334100e-09,   1.04931682e-08,\n",
      "         4.18384248e-09,   3.01023584e-09,   2.15289537e-09,\n",
      "         1.60639196e-09,   1.40367068e-09,   9.65201918e-10,\n",
      "         5.53293765e-10,   3.97546527e-10,   1.08253773e-09,\n",
      "         1.81573355e-10,   9.28743979e-11,   1.16821631e-10,\n",
      "         1.37331179e-09,   1.13850596e-10,   1.27882581e-10,\n",
      "         9.41967463e-11,   6.74268193e-12,   4.92343340e-11,\n",
      "         3.27914242e-12,   6.13654437e-10,   9.10016673e-12,\n",
      "         5.98722146e-11,   1.35737796e-13,   4.01255911e-11,\n",
      "         1.06502373e-10,   3.08483325e-09,   1.83503052e-11,\n",
      "         1.66563767e-10,   5.44523374e-10,   1.46710433e-10,\n",
      "         2.04078189e-10,   1.89099380e-09,   4.88225450e-10,\n",
      "         6.66772085e-10,   9.45545923e-10,   1.27583300e-09,\n",
      "         9.69642353e-09,   1.39632793e-08,   2.77947634e-09,\n",
      "         3.68934995e-09,   4.34810641e-09,   5.66012885e-09,\n",
      "         6.75580102e-09,   8.93437563e-09,   1.72879545e-08,\n",
      "         1.27773790e-08,   1.93902922e-08,   2.40112872e-08,\n",
      "         6.22680128e-08,   2.69378335e-08,   7.74124605e-08,\n",
      "         3.64607761e-08,   8.44386458e-08,   4.96784470e-08,\n",
      "         2.45761468e-07,   6.85377295e-08,   7.73619140e-08,\n",
      "         8.72331263e-08,   1.68623387e-07,   2.11642594e-07,\n",
      "         2.67049884e-07,   4.87773776e-07,   1.63399096e-07,\n",
      "         2.09711759e-07,   2.31688355e-07,   3.01035922e-07,\n",
      "         2.55121415e-07,   4.08674665e-07,   3.84505802e-07,\n",
      "         3.58201826e-07]))\n"
     ]
    },
    {
     "data": {
      "image/png": "[encoded data removed]",
      "text/plain": [
       "<matplotlib.figure.Figure at 0x7f4f7c3e0a90>"
      ]
     },
     "metadata": {},
     "output_type": "display_data"
    }
   ],
   "source": [
    "# generate the dataset\n",
    "xdata1 = np.linspace(-0.1,0.1,100) + np.random.normal(0, .01, 100)\n",
    "xdata2 = np.linspace(-3,3,100) + np.random.normal(0, 1.2, 100)\n",
    "s_xdata1 = np.ones([1,100])*0.01\n",
    "s_xdata2 = np.ones([1,100])*0.003\n",
    "def theF(x1,x2):\n",
    "    return (xdata1**2+xdata2**2)**0.5\n",
    "ydata = theF(xdata1, xdata2)\n",
    "# print(ydata)\n",
    "plt.plot(xdata1, ydata,'.')\n",
    "\n",
    "def theErr(x1, x2):\n",
    "    cov = np.cov(x1,x2)\n",
    "    print(cov)\n",
    "    s_x1 = cov[0][0]\n",
    "    s_x2 = cov[1][1]\n",
    "    s_x1x2 = cov[0][1]\n",
    "    \n",
    "    D_x1 = x1*((x1**2+x2**2)**2)\n",
    "    D_x2 = x2*((x1**2+x2**2)**2)\n",
    "    \n",
    "    uncorr_err = ((D_x1**2 * s_x1) + (D_x2**2 * s_x2))**0.5\n",
    "    corr_err = ((D_x1**2 * s_x1) + (D_x2**2 * s_x2) - (2*D_x1*D_x2*s_x1x2))**0.5\n",
    "    return uncorr_err, corr_err\n",
    "ydata_err = theErr(xdata1,xdata)\n",
    "print(ydata_err)"
   ]
  },
  {
   "cell_type": "code",
   "execution_count": null,
   "metadata": {},
   "outputs": [],
   "source": []
  },
  {
   "cell_type": "code",
   "execution_count": null,
   "metadata": {},
   "outputs": [],
   "source": []
  },
  {
   "cell_type": "code",
   "execution_count": null,
   "metadata": {},
   "outputs": [],
   "source": []
  }
 ],
 "metadata": {
  "kernelspec": {
   "display_name": "Python 2",
   "language": "python",
   "name": "python2"
  },
  "language_info": {
   "codemirror_mode": {
    "name": "ipython",
    "version": 2
   },
   "file_extension": ".py",
   "mimetype": "text/x-python",
   "name": "python",
   "nbconvert_exporter": "python",
   "pygments_lexer": "ipython2",
   "version": "2.7.13"
  }
 },
 "nbformat": 4,
 "nbformat_minor": 2
}
