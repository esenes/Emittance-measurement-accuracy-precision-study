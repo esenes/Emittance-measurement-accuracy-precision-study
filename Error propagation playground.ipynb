{
 "cells": [
  {
   "cell_type": "markdown",
   "metadata": {},
   "source": [
    "It looks that the **uncertainties** package is ok for funzioni linearizzabili nell'intorno di dove sono calcolate --> aka vanno bene per errori piccoli \n",
    "\n",
    "Per roba piú raffinata vedi:\n",
    "- **soerp**: second order error propagation --> apparently is still fast\n",
    "- **mcerp**: monte carlo error propagation\n",
    "\n",
    "TODOs:\n",
    "- is the emittance function linear ? (do some plots)"
   ]
  },
  {
   "cell_type": "code",
   "execution_count": 1,
   "metadata": {},
   "outputs": [],
   "source": [
    "import uncertainties as un\n",
    "import numpy as np\n",
    "from uncertainties import unumpy"
   ]
  },
  {
   "cell_type": "code",
   "execution_count": 140,
   "metadata": {},
   "outputs": [],
   "source": [
    "x = unumpy.uarray([np.pi*0.01,np.pi*0.1, np.pi*0.5, np.pi*1.],[0.02, 0.03, 0.1, 0.07])"
   ]
  },
  {
   "cell_type": "code",
   "execution_count": 141,
   "metadata": {
    "collapsed": true
   },
   "outputs": [],
   "source": [
    "def testF(xx):\n",
    "    return 3*unumpy.sin(5*xx**3)"
   ]
  },
  {
   "cell_type": "code",
   "execution_count": 142,
   "metadata": {},
   "outputs": [
    {
     "data": {
      "text/plain": [
       "array([0.0004650941483414287+/-0.0008882643854234449,\n",
       "       0.4632333191330054+/-0.13164167425082965,\n",
       "       1.5149612587022716+/-9.583561164509774,\n",
       "       -2.6645046553051532+/-14.286086080914606], dtype=object)"
      ]
     },
     "execution_count": 142,
     "metadata": {},
     "output_type": "execute_result"
    }
   ],
   "source": [
    "testF(x)"
   ]
  },
  {
   "cell_type": "code",
   "execution_count": 146,
   "metadata": {
    "collapsed": true
   },
   "outputs": [],
   "source": [
    "def theF(xx):\n",
    "    return 3*np.sin(5*(xx**3))\n",
    "    \n",
    "def err(xx,ss):\n",
    "    return (45*(xx**2)) * np.cos(5*(xx**3))*ss"
   ]
  },
  {
   "cell_type": "code",
   "execution_count": 147,
   "metadata": {},
   "outputs": [
    {
     "data": {
      "text/plain": [
       "array([ 4.65094148e-04,  4.63233319e-01,  1.51496126e+00, -2.66450466e+00])"
      ]
     },
     "execution_count": 147,
     "metadata": {},
     "output_type": "execute_result"
    }
   ],
   "source": [
    "theF(unumpy.nominal_values(x))"
   ]
  },
  {
   "cell_type": "code",
   "execution_count": 148,
   "metadata": {},
   "outputs": [
    {
     "data": {
      "text/plain": [
       "array([ 8.88264385e-04,  1.31641674e-01,  9.58356116e+00, -1.42860861e+01])"
      ]
     },
     "execution_count": 148,
     "metadata": {},
     "output_type": "execute_result"
    }
   ],
   "source": [
    "err(unumpy.nominal_values(x),unumpy.std_devs(x))"
   ]
  },
  {
   "cell_type": "code",
   "execution_count": null,
   "metadata": {},
   "outputs": [],
   "source": []
  },
  {
   "cell_type": "code",
   "execution_count": null,
   "metadata": {
    "collapsed": true
   },
   "outputs": [],
   "source": []
  },
  {
   "cell_type": "code",
   "execution_count": 35,
   "metadata": {},
   "outputs": [
    {
     "data": {
      "text/plain": [
       "array([0.03141593, 0.31415927, 1.57079633, 3.14159265])"
      ]
     },
     "execution_count": 35,
     "metadata": {},
     "output_type": "execute_result"
    }
   ],
   "source": [
    "unumpy.nominal_values(x)"
   ]
  },
  {
   "cell_type": "code",
   "execution_count": 136,
   "metadata": {},
   "outputs": [],
   "source": [
    "def testF(xx):\n",
    "    return unumpy.sqrt(13*xx**2+xx)\n",
    "\n",
    "def theF(xx):\n",
    "    return np.sqrt(13*xx**2 + xx)\n",
    "    \n",
    "def err(xx,ss):\n",
    "    return np.abs((26*xx +1)/(2*np.sqrt(xx*(13*xx+1))))*ss"
   ]
  },
  {
   "cell_type": "code",
   "execution_count": 137,
   "metadata": {},
   "outputs": [
    {
     "data": {
      "text/plain": [
       "array([0.2103483117529449+/-0.08637169819870971,\n",
       "       1.2638068829930449+/-0.10881576555771832,\n",
       "       5.800604333199715+/-0.3606581495068743,\n",
       "       11.465009806701058+/-0.2524070509800452], dtype=object)"
      ]
     },
     "execution_count": 137,
     "metadata": {},
     "output_type": "execute_result"
    }
   ],
   "source": [
    "testF(x)"
   ]
  },
  {
   "cell_type": "code",
   "execution_count": 138,
   "metadata": {},
   "outputs": [
    {
     "data": {
      "text/plain": [
       "array([ 0.21034831,  1.26380688,  5.80060433, 11.46500981])"
      ]
     },
     "execution_count": 138,
     "metadata": {},
     "output_type": "execute_result"
    }
   ],
   "source": [
    "theF(unumpy.nominal_values(x))"
   ]
  },
  {
   "cell_type": "code",
   "execution_count": 139,
   "metadata": {},
   "outputs": [
    {
     "data": {
      "text/plain": [
       "array([0.0863717 , 0.10881577, 0.36065815, 0.25240705])"
      ]
     },
     "execution_count": 139,
     "metadata": {},
     "output_type": "execute_result"
    }
   ],
   "source": [
    "err(unumpy.nominal_values(x),unumpy.std_devs(x))"
   ]
  },
  {
   "cell_type": "code",
   "execution_count": null,
   "metadata": {
    "collapsed": true
   },
   "outputs": [],
   "source": []
  },
  {
   "cell_type": "code",
   "execution_count": 204,
   "metadata": {},
   "outputs": [],
   "source": [
    "# ok mo proviamo con correlazione \n",
    "aa = unumpy.uarray([1.,2.,3.,4.,5.],[0.1, 0.1, 0.1, 0.1, 0.1])\n",
    "bb = unumpy.uarray([2.,4.,6.,8.,10.],[.05, .05, .05, .05, .05])"
   ]
  },
  {
   "cell_type": "code",
   "execution_count": 205,
   "metadata": {
    "collapsed": true
   },
   "outputs": [],
   "source": [
    "import matplotlib.pyplot as plt\n",
    "%matplotlib inline"
   ]
  },
  {
   "cell_type": "code",
   "execution_count": 225,
   "metadata": {},
   "outputs": [],
   "source": [
    "def testF(xx,yy):\n",
    "    return (xx**2+yy**2)**0.5\n",
    "\n",
    "def theF(xx,yy):\n",
    "    return np.sqrt(xx**2 + yy**2)\n",
    "    \n",
    "def err(xx,sx, yy, sy):\n",
    "    df_x = (xx/(2*np.sqrt(xx**2+yy**2)))\n",
    "    df_y = (yy/(2*np.sqrt(xx**2+yy**2)))\n",
    "    return np.sqrt( df_x**2 *sx**2 + df_y**2 *sy**2)\n",
    "\n",
    "def err_full(xx,sx, yy, sy):\n",
    "    def covariance(xx,yy):\n",
    "        mx = np.mean(xx)\n",
    "        my = np.mean(yy)\n",
    "        covar = (1./np.size(xx))*np.sum((xx-mx)*(yy-my))\n",
    "        print(\"Linear correlation coefficient (rho) = \"+str(covar/np.std(xx)/np.std(yy)))\n",
    "        return covar\n",
    "    \n",
    "    df_x = (xx/(2*np.sqrt(xx**2+yy**2)))\n",
    "    print(df_x)\n",
    "    df_y = (yy/(2*np.sqrt(xx**2+yy**2)))\n",
    "    return np.sqrt( (df_x*sx)**2 + (df_y*sy)**2 + (2*df_x*df_y*covariance(xx,yy)))\n",
    "\n",
    "def err_full(xx, sx, yy, sy):\n",
    "    def covariance(xx,yy):\n",
    "        mx = np.mean(xx)\n",
    "        my = np.mean(yy)\n",
    "        covar = (1./np.size(xx))*np.sum((xx-mx)*(yy-my))\n",
    "        print(\"Linear correlation coefficient (rho) = \"+str(covar/np.std(xx)/np.std(yy)))\n",
    "        return covar\n",
    "    \n",
    "    df_x = (xx/(2*np.sqrt(xx**2+yy**2)))\n",
    "    print(df_x)\n",
    "    df_y = (yy/(2*np.sqrt(xx**2+yy**2)))\n",
    "    return np.sqrt( (df_x*sx)**2 + (df_y*sy)**2 + (2*df_x*df_y*covariance(xx,yy)))"
   ]
  },
  {
   "cell_type": "code",
   "execution_count": 207,
   "metadata": {},
   "outputs": [
    {
     "data": {
      "text/plain": [
       "array([2.23606797749979+/-0.06324555320336758,\n",
       "       4.47213595499958+/-0.06324555320336758,\n",
       "       6.708203932499369+/-0.0632455532033676,\n",
       "       8.94427190999916+/-0.06324555320336758,\n",
       "       11.180339887498949+/-0.06324555320336758], dtype=object)"
      ]
     },
     "execution_count": 207,
     "metadata": {},
     "output_type": "execute_result"
    }
   ],
   "source": [
    "testF(aa,bb)"
   ]
  },
  {
   "cell_type": "code",
   "execution_count": 208,
   "metadata": {},
   "outputs": [
    {
     "data": {
      "text/plain": [
       "array([ 2.23606798,  4.47213595,  6.70820393,  8.94427191, 11.18033989])"
      ]
     },
     "execution_count": 208,
     "metadata": {},
     "output_type": "execute_result"
    }
   ],
   "source": [
    "theF(unumpy.nominal_values(aa),unumpy.nominal_values(bb))"
   ]
  },
  {
   "cell_type": "code",
   "execution_count": 209,
   "metadata": {},
   "outputs": [
    {
     "data": {
      "text/plain": [
       "array([0.03162278, 0.03162278, 0.03162278, 0.03162278, 0.03162278])"
      ]
     },
     "execution_count": 209,
     "metadata": {},
     "output_type": "execute_result"
    }
   ],
   "source": [
    "err(unumpy.nominal_values(aa), unumpy.std_devs(aa), unumpy.nominal_values(bb),unumpy.std_devs(bb))"
   ]
  },
  {
   "cell_type": "code",
   "execution_count": 210,
   "metadata": {},
   "outputs": [
    {
     "name": "stdout",
     "output_type": "stream",
     "text": [
      "[0.2236068 0.2236068 0.2236068 0.2236068 0.2236068]\n",
      "Linear correlation coefficient (rho) = 0.9999999999999999\n"
     ]
    },
    {
     "data": {
      "text/plain": [
       "array([0.89498603, 0.89498603, 0.89498603, 0.89498603, 0.89498603])"
      ]
     },
     "execution_count": 210,
     "metadata": {},
     "output_type": "execute_result"
    }
   ],
   "source": [
    "err_full(unumpy.nominal_values(aa), unumpy.std_devs(aa), unumpy.nominal_values(bb),unumpy.std_devs(bb))"
   ]
  },
  {
   "cell_type": "code",
   "execution_count": 214,
   "metadata": {},
   "outputs": [
    {
     "data": {
      "text/plain": [
       "array([[ 2.5,  5. ],\n",
       "       [ 5. , 10. ]])"
      ]
     },
     "execution_count": 214,
     "metadata": {},
     "output_type": "execute_result"
    }
   ],
   "source": [
    "np.cov(unumpy.nominal_values(aa),unumpy.nominal_values(bb))"
   ]
  },
  {
   "cell_type": "code",
   "execution_count": 215,
   "metadata": {},
   "outputs": [
    {
     "data": {
      "text/plain": [
       "0.5000000100624"
      ]
     },
     "execution_count": 215,
     "metadata": {},
     "output_type": "execute_result"
    }
   ],
   "source": [
    "2*0.2236068*0.2236068*5"
   ]
  },
  {
   "cell_type": "code",
   "execution_count": null,
   "metadata": {},
   "outputs": [],
   "source": []
  },
  {
   "cell_type": "code",
   "execution_count": 224,
   "metadata": {},
   "outputs": [
    {
     "data": {
      "text/plain": [
       "array([[ 2.5,  5. ],\n",
       "       [ 5. , 10. ]])"
      ]
     },
     "execution_count": 224,
     "metadata": {},
     "output_type": "execute_result"
    }
   ],
   "source": [
    "np.cov(unumpy.nominal_values(aa),unumpy.nominal_values(bb), ddof=1)"
   ]
  },
  {
   "cell_type": "code",
   "execution_count": null,
   "metadata": {},
   "outputs": [],
   "source": []
  },
  {
   "cell_type": "code",
   "execution_count": null,
   "metadata": {
    "collapsed": true
   },
   "outputs": [],
   "source": []
  }
 ],
 "metadata": {
  "kernelspec": {
   "display_name": "Python 2",
   "language": "python",
   "name": "python2"
  },
  "language_info": {
   "codemirror_mode": {
    "name": "ipython",
    "version": 2
   },
   "file_extension": ".py",
   "mimetype": "text/x-python",
   "name": "python",
   "nbconvert_exporter": "python",
   "pygments_lexer": "ipython2",
   "version": "2.7.13"
  }
 },
 "nbformat": 4,
 "nbformat_minor": 2
}
