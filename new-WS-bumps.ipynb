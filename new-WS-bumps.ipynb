{
 "cells": [
  {
   "cell_type": "markdown",
   "metadata": {},
   "source": [
    "# new WS calibration check through bumps\n",
    "\n",
    "Data of 15 october morning\n",
    "\n",
    "- double check the timestamps with Jose"
   ]
  },
  {
   "cell_type": "code",
   "execution_count": 1,
   "metadata": {},
   "outputs": [
    {
     "name": "stdout",
     "output_type": "stream",
     "text": [
      "Version 0.03. This is the latest version.\n",
      "Please help me to improve it reporting bugs to guido.sterbini@cern.ch.\n",
      "Your platform is Linux-3.10.0-693.11.6.el7.x86_64-x86_64-with-redhat-6.10-Carbon\n",
      "Your folder is /eos/user/e/esenes/Emittance-accuracy-measurement\n",
      "Your IP is 172.17.0.16\n",
      "2018-10-23 10:39:18\n"
     ]
    }
   ],
   "source": [
    "%run myToolbox.py"
   ]
  },
  {
   "cell_type": "code",
   "execution_count": 2,
   "metadata": {
    "scrolled": true
   },
   "outputs": [
    {
     "name": "stdout",
     "output_type": "stream",
     "text": [
      "---\n",
      "Version 0.1\n",
      "Use at your own risk. Please report bugs to eugenio.senes@cern.ch\n",
      "Fork it at https://gitlab.cern.ch/esenes/PS-analysis-tools\n",
      "---\n"
     ]
    }
   ],
   "source": [
    "# %run /eos/project/l/liu/Toolbox/myToolbox.py\n",
    "print '---'\n",
    "%run /eos/user/e/esenes/PS-analysis-tools/eTools.py\n",
    "print '---'"
   ]
  },
  {
   "cell_type": "markdown",
   "metadata": {},
   "source": [
    "# User inputs"
   ]
  },
  {
   "cell_type": "code",
   "execution_count": 3,
   "metadata": {},
   "outputs": [],
   "source": [
    "matlabVars = ['PR_BPM.AcquisitionOrbit.value.position', # BPMs\n",
    "                'PR_BPM.AcquisitionOrbit.value.channelNames',\n",
    "                'PR_BCT_ST.Samples.value.samples'\n",
    "             ]"
   ]
  },
  {
   "cell_type": "code",
   "execution_count": 45,
   "metadata": {},
   "outputs": [],
   "source": [
    "def gimme_df(filenames, ampl):\n",
    "    df = myToolbox.fromMatlabToDataFrame(filenames,matlabVars,verbose=False)\n",
    "    df['Bump_mm'] = ampl\n",
    "    return df\n",
    "\n",
    "files0 = sorted(glob.glob('/eos/project/l/liu/PS/data/2017/MD2586_InjectionEmittanceBlowup/2018.10.15_bump_LIU/n2mm/*.mat'))\n",
    "df0 = gimme_df(files0, -2.)\n",
    "files1 = sorted(glob.glob('/eos/project/l/liu/PS/data/2017/MD2586_InjectionEmittanceBlowup/2018.10.15_bump_LIU/n1mm/*.mat'))[1:]\n",
    "df1 = gimme_df(files1, -1.)\n",
    "files2 = sorted(glob.glob('/eos/project/l/liu/PS/data/2017/MD2586_InjectionEmittanceBlowup/2018.10.15_bump_LIU/0mm/*.mat'))[1:]\n",
    "df2 = gimme_df(files2, 0.)\n",
    "files3 = sorted(glob.glob('/eos/project/l/liu/PS/data/2017/MD2586_InjectionEmittanceBlowup/2018.10.15_bump_LIU/1mm/*.mat'))[1:]\n",
    "df3 = gimme_df(files3, 1.)\n",
    "files4 = sorted(glob.glob('/eos/project/l/liu/PS/data/2017/MD2586_InjectionEmittanceBlowup/2018.10.15_bump_LIU/2mm/*.mat'))[1:]\n",
    "df4 = gimme_df(files4, 2.)\n",
    "files5 = sorted(glob.glob('/eos/project/l/liu/PS/data/2017/MD2586_InjectionEmittanceBlowup/2018.10.15_bump_LIU/3mm/*.mat'))[1:]\n",
    "df5 = gimme_df(files5, 3.)\n",
    "files6 = sorted(glob.glob('/eos/project/l/liu/PS/data/2017/MD2586_InjectionEmittanceBlowup/2018.10.15_bump_LIU/4mm/*.mat'))[1:]\n",
    "df6 = gimme_df(files6, 4.)"
   ]
  },
  {
   "cell_type": "code",
   "execution_count": 91,
   "metadata": {},
   "outputs": [],
   "source": [
    "def gimme_df(filenames, ampl):\n",
    "    df = myToolbox.fromMatlabToDataFrame(filenames,matlabVars,verbose=False)\n",
    "    df['Bump_mm'] = ampl\n",
    "    return df\n",
    "\n",
    "files0 = sorted(glob.glob('/eos/project/l/liu/PS/data/2017/MD2586_InjectionEmittanceBlowup/2018.10.15_bump_LIU/n2mm/*.mat'))\n",
    "df0 = gimme_df(files0, -2.)\n",
    "files1 = sorted(glob.glob('/eos/project/l/liu/PS/data/2017/MD2586_InjectionEmittanceBlowup/2018.10.15_bump_LIU/n1mm/*.mat'))\n",
    "df1 = gimme_df(files1, -1.)\n",
    "files2 = sorted(glob.glob('/eos/project/l/liu/PS/data/2017/MD2586_InjectionEmittanceBlowup/2018.10.15_bump_LIU/0mm/*.mat'))\n",
    "df2 = gimme_df(files2, 0.)\n",
    "files3 = sorted(glob.glob('/eos/project/l/liu/PS/data/2017/MD2586_InjectionEmittanceBlowup/2018.10.15_bump_LIU/1mm/*.mat'))\n",
    "df3 = gimme_df(files3, 1.)\n",
    "files4 = sorted(glob.glob('/eos/project/l/liu/PS/data/2017/MD2586_InjectionEmittanceBlowup/2018.10.15_bump_LIU/2mm/*.mat'))\n",
    "df4 = gimme_df(files4, 2.)\n",
    "files5 = sorted(glob.glob('/eos/project/l/liu/PS/data/2017/MD2586_InjectionEmittanceBlowup/2018.10.15_bump_LIU/3mm/*.mat'))\n",
    "df5 = gimme_df(files5, 3.)\n",
    "files6 = sorted(glob.glob('/eos/project/l/liu/PS/data/2017/MD2586_InjectionEmittanceBlowup/2018.10.15_bump_LIU/4mm/*.mat'))\n",
    "df6 = gimme_df(files6, 4.)"
   ]
  },
  {
   "cell_type": "code",
   "execution_count": 92,
   "metadata": {},
   "outputs": [],
   "source": [
    "myDataFrame = pnd.concat([df0,df1,df2,df3,df4,df5,df6])"
   ]
  },
  {
   "cell_type": "code",
   "execution_count": 93,
   "metadata": {},
   "outputs": [
    {
     "data": {
      "text/plain": [
       "[<matplotlib.lines.Line2D at 0x7fdf65ece2d0>]"
      ]
     },
     "execution_count": 93,
     "metadata": {},
     "output_type": "execute_result"
    },
    {
     "data": {
      "image/png": "[encoded data removed]",
      "text/plain": [
       "<matplotlib.figure.Figure at 0x7fdf671e4190>"
      ]
     },
     "metadata": {},
     "output_type": "display_data"
    }
   ],
   "source": [
    "plt.plot(myDataFrame.index,'.')"
   ]
  },
  {
   "cell_type": "markdown",
   "metadata": {},
   "source": [
    "# Intensity"
   ]
  },
  {
   "cell_type": "code",
   "execution_count": 94,
   "metadata": {},
   "outputs": [],
   "source": [
    "myDataFrame['Intensity'] = myDataFrame['PR_BCT_ST.Samples.value.samples']\n",
    "myDataFrame['Intensity'] = myDataFrame['Intensity'].apply(lambda x: np.mean(x[500:900]))"
   ]
  },
  {
   "cell_type": "markdown",
   "metadata": {},
   "source": [
    "# BPMs"
   ]
  },
  {
   "cell_type": "code",
   "execution_count": 95,
   "metadata": {},
   "outputs": [],
   "source": [
    "myDataFrame['PR_BPM.AcquisitionOrbit.value.position'] = myDataFrame['PR_BPM.AcquisitionOrbit.value.position'].apply(lambda x: 0.1*x)"
   ]
  },
  {
   "cell_type": "code",
   "execution_count": 96,
   "metadata": {},
   "outputs": [],
   "source": [
    "myDataFrame['Bump_amplitude'] = myDataFrame['PR_BPM.AcquisitionOrbit.value.position'].apply(lambda x: np.mean(x[22, 500:900]))"
   ]
  },
  {
   "cell_type": "markdown",
   "metadata": {},
   "source": [
    "# Import Jose's data from Matlab"
   ]
  },
  {
   "cell_type": "code",
   "execution_count": 97,
   "metadata": {},
   "outputs": [],
   "source": [
    "# import to dict\n",
    "matlabVars2 = ['Sigmas_IN','Sigmas_OUT','Centres_IN','Centres_OUT','InfoData_CycleName']\n",
    "new_WS_data = scipy.io.loadmat('/eos/user/e/esenes/Emittance-accuracy-measurement/new_WS_bumps/Summary_Processed.mat', squeeze_me=True, struct_as_record=False)\n",
    "# fix the casting for the timestamps\n",
    "liuTs = []\n",
    "for k in range(263):    \n",
    "    ts = new_WS_data['InfoData_CycleName'][k]\n",
    "    ts_unix = time.mktime(datetime.datetime.strptime(str(ts), '%Y.%m.%d.%H.%M.%S.%f').timetuple())\n",
    "#     ts_unix += 3 #acquisition offset\n",
    "    liuTs.append(myToolbox.unixtime2datetime(ts_unix))\n",
    "# import to dataframe\n",
    "LIU_df = pnd.DataFrame([],index=liuTs)\n",
    "\n",
    "LIU_df['Sigmas_IN'] = [np.empty(4,dtype=float)]*len(LIU_df)\n",
    "LIU_df['Sigmas_OUT'] = [np.empty(4,dtype=float)]*len(LIU_df)\n",
    "LIU_df['Centre_IN'] = [np.empty(4,dtype=float)]*len(LIU_df)\n",
    "LIU_df['Centre_OUT'] = [np.empty(4,dtype=float)]*len(LIU_df)\n",
    "\n",
    "for k, l in enumerate(LIU_df.index):\n",
    "    LIU_df['Sigmas_IN'].loc[l] = new_WS_data['Sigmas_IN'][k]\n",
    "    LIU_df['Sigmas_OUT'].loc[l] = new_WS_data['Sigmas_OUT'][k]\n",
    "    LIU_df['Centre_IN'].loc[l] = new_WS_data['Centres_IN'][k]\n",
    "    LIU_df['Centre_OUT'].loc[l] = new_WS_data['Centres_OUT'][k]\n",
    "    \n",
    "# UTC time fix --> go all in local time\n",
    "LIU_df.index = LIU_df.index + pnd.DateOffset(hours=2, seconds=3, milliseconds=900) \n",
    "\n",
    "# head/tail chop\n",
    "LIU_df = LIU_df.drop(LIU_df.iloc[127:].index,axis=0)\n",
    "LIU_df = LIU_df.drop(LIU_df.iloc[:11].index,axis=0)"
   ]
  },
  {
   "cell_type": "code",
   "execution_count": 115,
   "metadata": {},
   "outputs": [],
   "source": [
    "# manual adjustment of the data not matching ...\n",
    "LIU_df = LIU_df.drop(LIU_df.loc['2018-10-15 12:12:55.900000'].name)\n",
    "LIU_df = LIU_df.drop(LIU_df.loc['2018-10-15 12:14:07.900000'].name)\n",
    "LIU_df = LIU_df.drop(LIU_df.loc['2018-10-15 12:15:19.900000'].name)\n",
    "\n",
    "myDataFrame = myDataFrame.drop(myDataFrame.loc['2018-10-15 12:14:40.300000'].name)\n",
    "\n",
    "LIU_df = LIU_df.drop(LIU_df.loc['2018-10-15 12:50:43.900000'].name)\n",
    "LIU_df = LIU_df.drop(LIU_df.loc['2018-10-15 12:52:31.900000'].name)\n",
    "LIU_df = LIU_df.drop(LIU_df.loc['2018-10-15 12:57:55.900000'].name)\n",
    "\n",
    "myDataFrame = myDataFrame.drop(myDataFrame.loc['2018-10-15 12:57:16.300000'].name)\n"
   ]
  },
  {
   "cell_type": "code",
   "execution_count": 119,
   "metadata": {
    "scrolled": true
   },
   "outputs": [
    {
     "name": "stdout",
     "output_type": "stream",
     "text": [
      "15\n",
      "31\n",
      "62\n",
      "78\n"
     ]
    }
   ],
   "source": [
    "myDataFrame['Sigmas_IN'] = [np.empty(4,dtype=float)]*len(myDataFrame)\n",
    "myDataFrame['Sigmas_OUT'] = [np.empty(4,dtype=float)]*len(myDataFrame)\n",
    "myDataFrame['Centre_IN'] = [np.empty(4,dtype=float)]*len(myDataFrame)\n",
    "myDataFrame['Centre_OUT'] = [np.empty(4,dtype=float)]*len(myDataFrame)\n",
    "\n",
    "for k in range(len(myDataFrame)):\n",
    "    if (myDataFrame.index[k] == LIU_df.index[k]):\n",
    "        myDataFrame['Sigmas_IN'].iloc[k] = LIU_df['Sigmas_IN'].iloc[k]\n",
    "        myDataFrame['Sigmas_OUT'].iloc[k] = LIU_df['Sigmas_OUT'].iloc[k]\n",
    "        myDataFrame['Centre_IN'].iloc[k] = LIU_df['Centre_IN'].iloc[k]\n",
    "        myDataFrame['Centre_OUT'].iloc[k] = LIU_df['Centre_OUT'].iloc[k]\n",
    "    else:\n",
    "        print(k)\n",
    "        myDataFrame['Sigmas_IN'].iloc[k] = np.nan\n",
    "        myDataFrame['Sigmas_OUT'].iloc[k] = np.nan\n",
    "        myDataFrame['Centre_IN'].iloc[k] = np.nan\n",
    "        myDataFrame['Centre_OUT'].iloc[k] =np.nan"
   ]
  },
  {
   "cell_type": "raw",
   "metadata": {},
   "source": [
    "# CHECK\n",
    "for k in range(len(myDataFrame)):\n",
    "    print(myDataFrame.index[k])\n",
    "    print(LIU_df.index[k])\n",
    "    print( myDataFrame.index[k] == LIU_df.index[k] )\n",
    "\n",
    "    print(k)\n",
    "    print('\\n')"
   ]
  },
  {
   "cell_type": "markdown",
   "metadata": {},
   "source": [
    "# Finally the plot "
   ]
  },
  {
   "cell_type": "code",
   "execution_count": 156,
   "metadata": {},
   "outputs": [],
   "source": [
    "# data grabber for arrays with nans\n",
    "def sig(x, idx):\n",
    "    try:\n",
    "        return x[idx]\n",
    "    except:\n",
    "        return x\n",
    "# linear fitting\n",
    "from scipy.optimize import curve_fit\n",
    "def lin(x, a, b):\n",
    "    return a + b*x"
   ]
  },
  {
   "cell_type": "code",
   "execution_count": 154,
   "metadata": {},
   "outputs": [],
   "source": [
    "# bad shots LIU WS\n",
    "myDataFrame = myDataFrame.drop(myDataFrame.loc['2018-10-15 13:00:55.900'].name)\n",
    "myDataFrame = myDataFrame.drop(myDataFrame.loc['2018-10-15 11:39:19.900'].name)"
   ]
  },
  {
   "cell_type": "code",
   "execution_count": 176,
   "metadata": {},
   "outputs": [
    {
     "data": {
      "text/plain": [
       "LinregressResult(slope=nan, intercept=nan, rvalue=nan, pvalue=nan, stderr=nan)"
      ]
     },
     "execution_count": 176,
     "metadata": {},
     "output_type": "execute_result"
    }
   ],
   "source": [
    "from scipy import stats\n",
    "stats.linregress(x0, yy)\n"
   ]
  },
  {
   "cell_type": "code",
   "execution_count": 179,
   "metadata": {},
   "outputs": [
    {
     "data": {
      "text/plain": [
       "(array([ 1.,  1.]), array([[ inf,  inf],\n",
       "        [ inf,  inf]]))"
      ]
     },
     "execution_count": 179,
     "metadata": {},
     "output_type": "execute_result"
    },
    {
     "data": {
      "image/png": "[encoded data removed]",
      "text/plain": [
       "<matplotlib.figure.Figure at 0x7fdf67055b10>"
      ]
     },
     "metadata": {},
     "output_type": "display_data"
    }
   ],
   "source": [
    "plt.plot(x0, yy,'.')\n",
    "curve_fit(lin, x0, yy )\n"
   ]
  },
  {
   "cell_type": "code",
   "execution_count": 180,
   "metadata": {},
   "outputs": [
    {
     "data": {
      "text/plain": [
       "2018-10-15 11:37:31.900    1.119285\n",
       "2018-10-15 11:38:07.900    1.129658\n",
       "2018-10-15 11:38:43.900    1.068901\n",
       "2018-10-15 11:39:55.900    1.134846\n",
       "2018-10-15 11:40:31.900    1.172816\n",
       "2018-10-15 11:41:07.900    1.000141\n",
       "2018-10-15 11:41:43.900    1.080559\n",
       "2018-10-15 11:42:19.900    1.045581\n",
       "2018-10-15 11:42:55.900    1.062101\n",
       "2018-10-15 11:43:31.900    1.058781\n",
       "2018-10-15 11:44:07.900    1.101060\n",
       "2018-10-15 11:44:43.900    1.074954\n",
       "2018-10-15 11:45:19.900    1.079050\n",
       "2018-10-15 11:45:55.900    1.081981\n",
       "2018-10-15 11:47:04.300         NaN\n",
       "2018-10-15 11:48:19.900    0.046366\n",
       "2018-10-15 11:48:55.900    0.083438\n",
       "2018-10-15 11:49:31.900   -0.033495\n",
       "2018-10-15 11:50:07.900    0.020092\n",
       "2018-10-15 11:50:43.900    0.024862\n",
       "2018-10-15 11:51:19.900    0.083290\n",
       "2018-10-15 11:51:55.900    0.099327\n",
       "2018-10-15 11:52:31.900    0.052668\n",
       "2018-10-15 11:53:07.900    0.021315\n",
       "2018-10-15 11:53:43.900    0.052232\n",
       "2018-10-15 11:54:19.900    0.057175\n",
       "2018-10-15 11:54:55.900    0.117118\n",
       "2018-10-15 11:55:31.900    0.068283\n",
       "2018-10-15 11:56:07.900    0.051646\n",
       "2018-10-15 11:56:43.900    0.054434\n",
       "                             ...   \n",
       "2018-10-15 12:37:28.300         NaN\n",
       "2018-10-15 12:38:43.900   -3.771464\n",
       "2018-10-15 12:39:19.900   -3.778960\n",
       "2018-10-15 12:39:55.900   -3.804262\n",
       "2018-10-15 12:40:31.900   -4.067401\n",
       "2018-10-15 12:41:07.900   -4.043464\n",
       "2018-10-15 12:41:43.900   -4.057716\n",
       "2018-10-15 12:42:19.900   -4.028481\n",
       "2018-10-15 12:42:55.900   -4.077285\n",
       "2018-10-15 12:43:31.900   -4.065915\n",
       "2018-10-15 12:44:07.900   -4.041799\n",
       "2018-10-15 12:44:43.900   -4.071823\n",
       "2018-10-15 12:45:19.900   -4.074856\n",
       "2018-10-15 12:45:55.900   -4.064288\n",
       "2018-10-15 12:46:31.900   -4.064876\n",
       "2018-10-15 12:47:07.900   -4.044226\n",
       "2018-10-15 12:58:31.900   -5.500276\n",
       "2018-10-15 12:59:07.900   -5.503719\n",
       "2018-10-15 12:59:43.900   -5.486497\n",
       "2018-10-15 13:00:19.900   -5.529900\n",
       "2018-10-15 13:01:31.900   -5.502959\n",
       "2018-10-15 13:02:07.900   -5.560500\n",
       "2018-10-15 13:02:43.900   -5.486496\n",
       "2018-10-15 13:03:19.900   -5.498727\n",
       "2018-10-15 13:03:55.900   -5.524795\n",
       "2018-10-15 13:04:31.900   -5.480039\n",
       "2018-10-15 13:05:07.900   -5.477563\n",
       "2018-10-15 13:05:43.900   -5.490515\n",
       "2018-10-15 13:06:19.900   -5.521993\n",
       "2018-10-15 13:06:55.900   -5.511319\n",
       "Name: Centre_IN, Length: 107, dtype: float64"
      ]
     },
     "execution_count": 180,
     "metadata": {},
     "output_type": "execute_result"
    }
   ],
   "source": [
    "x0\n"
   ]
  },
  {
   "cell_type": "code",
   "execution_count": 174,
   "metadata": {},
   "outputs": [
    {
     "name": "stdout",
     "output_type": "stream",
     "text": [
      "(nan, nan, nan)\n",
      "(nan, nan, nan)\n",
      "(nan, nan, nan)\n",
      "(nan, nan, nan)\n"
     ]
    },
    {
     "data": {
      "image/png": "[encoded data removed]",
      "text/plain": [
       "<matplotlib.figure.Figure at 0x7fdf654e43d0>"
      ]
     },
     "metadata": {},
     "output_type": "display_data"
    }
   ],
   "source": [
    "fig, ax = plt.subplots(2,2,figsize=(10,10))\n",
    "\n",
    "x0 = myDataFrame['Centre_IN'].apply(lambda x : sig(x,0))\n",
    "x1 = myDataFrame['Centre_IN'].apply(lambda x : sig(x,1))\n",
    "x2 = myDataFrame['Centre_IN'].apply(lambda x : sig(x,2))\n",
    "x3 = myDataFrame['Centre_IN'].apply(lambda x : sig(x,3))\n",
    "yy = myDataFrame['Bump_amplitude']\n",
    "\n",
    "def print_subplot(ax_obj, row, col, xdata, ydata, title):\n",
    "    # plotting \n",
    "    ax_obj[row,col].set_title(title)\n",
    "    ax_obj[row,col].plot(xdata, ydata,'o')\n",
    "    ax_obj[row,col].set_xlabel('LIU WS position (mm)')\n",
    "    ax_obj[row,col].set_ylabel('BPM position (mm)')\n",
    "    # fitting \n",
    "#     popt, pcov = curve_fit(lin, xdata, ydata )\n",
    "#     print(title)\n",
    "#     print(popt, np.sqrt(np.diag(pcov)))\n",
    "#     ax_obj[row,col].plot(xdata, lin(xdata, *popt),'-')\n",
    "    slope, intercept, r_value, p_value, std_err = stats.linregress(xdata, ydata)\n",
    "    print(slope, intercept, r_value)\n",
    "\n",
    "    \n",
    "print_subplot(ax, 0, 0, x0, yy, 'PM A' )\n",
    "print_subplot(ax, 0, 1, x1, yy, 'PM B' )\n",
    "print_subplot(ax, 1, 0, x2, yy, 'PM C' )\n",
    "print_subplot(ax, 1, 1, x3, yy, 'PM D' )\n",
    "\n",
    "fig.tight_layout()"
   ]
  },
  {
   "cell_type": "markdown",
   "metadata": {},
   "source": [
    "# Export for Jose"
   ]
  },
  {
   "cell_type": "raw",
   "metadata": {},
   "source": [
    "# build the data matrix\n",
    "reduced_df = myDataFrame.drop(['cycleStamp', 'matlabPLS', 'matlabFilePath','PR_BCT_ST.Samples.value.samples','PR_BPM.AcquisitionOrbit.value.channelNames','PR_BPM.AcquisitionOrbit.value.position'],axis=1)\n",
    "\n",
    "reduced_df['programmed_bump'] = reduced_df['Bump_mm']\n",
    "reduced_df['Bump_BPM54'] = reduced_df['Bump_amplitude']\n",
    "reduced_df = reduced_df.drop(['Bump_mm','Bump_amplitude'],axis=1)"
   ]
  },
  {
   "cell_type": "raw",
   "metadata": {},
   "source": [
    "reduced_df.to_csv('Bumps.csv')"
   ]
  },
  {
   "cell_type": "code",
   "execution_count": null,
   "metadata": {},
   "outputs": [],
   "source": []
  }
 ],
 "metadata": {
  "kernelspec": {
   "display_name": "Python 2",
   "language": "python",
   "name": "python2"
  },
  "language_info": {
   "codemirror_mode": {
    "name": "ipython",
    "version": 2
   },
   "file_extension": ".py",
   "mimetype": "text/x-python",
   "name": "python",
   "nbconvert_exporter": "python",
   "pygments_lexer": "ipython2",
   "version": "2.7.13"
  }
 },
 "nbformat": 4,
 "nbformat_minor": 2
}
