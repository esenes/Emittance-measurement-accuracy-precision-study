{
 "cells": [
  {
   "cell_type": "markdown",
   "metadata": {},
   "source": [
    "# Emittance measurement along the cycle with and without RF\n",
    "\n",
    "First of all let's see if the effect remains along the cycle"
   ]
  },
  {
   "cell_type": "code",
   "execution_count": 55,
   "metadata": {
    "scrolled": true
   },
   "outputs": [
    {
     "name": "stderr",
     "output_type": "stream",
     "text": [
      "WARNING:cmmnbuild_dep_manager:JVM is already started\n"
     ]
    },
    {
     "name": "stdout",
     "output_type": "stream",
     "text": [
      "Version 0.03. This is the latest version.\n",
      "Please help me to improve it reporting bugs to guido.sterbini@cern.ch.\n",
      "Your platform is Linux-3.10.0-693.21.1.el7.x86_64-x86_64-with-redhat-6.10-Carbon\n",
      "Your folder is /eos/user/e/esenes/Emittance-accuracy-measurement\n",
      "Your IP is 172.17.0.5\n",
      "2018-10-18 15:12:30\n",
      "---\n",
      "Version 0.1\n",
      "Use at your own risk. Please report bugs to eugenio.senes@cern.ch\n",
      "Fork it at https://gitlab.cern.ch/esenes/PS-analysis-tools\n",
      "---\n"
     ]
    }
   ],
   "source": [
    "%run /eos/project/l/liu/Toolbox/myToolbox.py\n",
    "print '---'\n",
    "%run /eos/user/e/esenes/PS-analysis-tools/eTools.py\n",
    "print '---'\n",
    "sys.path.append('/eos/project/l/liu/Instrumentation/Scripts')\n",
    "import metaclass"
   ]
  },
  {
   "cell_type": "code",
   "execution_count": 56,
   "metadata": {},
   "outputs": [],
   "source": [
    "sys.path.append('/eos/project/l/liu/Instrumentation/Scripts')\n",
    "import metaclass"
   ]
  },
  {
   "cell_type": "markdown",
   "metadata": {},
   "source": [
    "# User inputs"
   ]
  },
  {
   "cell_type": "code",
   "execution_count": 78,
   "metadata": {},
   "outputs": [],
   "source": [
    "folderPath = '/eos/project/l/liu/PS/data/2017/MD2586_InjectionEmittanceBlowup/2018.10.12_bump_BWS65'\n",
    "\n",
    "matlabVars = ['PR_BWS_65_H_ROT.Acquisition.value.projDataSet1', # Wirescanner 65\n",
    "                'PR_BWS_65_H_ROT.Acquisition.value.projPositionSet1',\n",
    "                'PR_BWS_65_H_ROT.Acquisition.value.acqTimeInCycleSet1',\n",
    "                'PR_BPM.AcquisitionOrbit.value.position', # BPMs\n",
    "                'PR_BPM.AcquisitionOrbit.value.channelNames',\n",
    "                'PR_BPM.AcquisitionOrbit.value.measStamp',\n",
    "                'PR_BCT_ST.Samples.value.samples', \n",
    "                'PR_DHZ61.REF_TABLE.value.X', 'PR_DHZ61.REF_TABLE.value.Y',\n",
    "                'PR_DHZ63.REF_TABLE.value.X', 'PR_DHZ63.REF_TABLE.value.Y',\n",
    "                'PR_DHZ65.REF_TABLE.value.X', 'PR_DHZ65.REF_TABLE.value.Y',\n",
    "                'PR_DHZ67.REF_TABLE.value.X', 'PR_DHZ67.REF_TABLE.value.Y',\n",
    "             ]"
   ]
  },
  {
   "cell_type": "code",
   "execution_count": 79,
   "metadata": {},
   "outputs": [
    {
     "name": "stdout",
     "output_type": "stream",
     "text": [
      "Found 48 data files\n"
     ]
    }
   ],
   "source": [
    "# let's start with the matlab data\n",
    "files1 = sorted(glob.glob(folderPath+'/data/2018*.mat'))\n",
    "print 'Found ' + str(len(files1)) + ' data files'\n",
    "myDataFrame = myToolbox.fromMatlabToDataFrame(files1, matlabVars, verbose=False)"
   ]
  },
  {
   "cell_type": "markdown",
   "metadata": {},
   "source": [
    "# Data cleanup"
   ]
  },
  {
   "cell_type": "code",
   "execution_count": 136,
   "metadata": {},
   "outputs": [
    {
     "name": "stdout",
     "output_type": "stream",
     "text": [
      "No duplicates found\n",
      "---\n"
     ]
    }
   ],
   "source": [
    "myDataFrame = checkDuplicates(myDataFrame) # Drop double acquisitions from matlab\n",
    "# myDataFrame = checkBPMData(myDataFrame) # BPMs fault\n",
    "# manual data drop\n",
    "myDataFrame = myDataFrame.drop(myDataFrame.loc['2018-10-12 23:16:33.100000'].name) # X wirescanner fault\n",
    "myDataFrame = myDataFrame.drop(myDataFrame.loc['2018-10-12 23:32:23.500000'].name) # non-phys emittance\n",
    "myDataFrame = myDataFrame.drop(myDataFrame.loc['2018-10-12 23:31:54.700000'].name)\n"
   ]
  },
  {
   "cell_type": "markdown",
   "metadata": {},
   "source": [
    "# Save the imported data"
   ]
  },
  {
   "cell_type": "code",
   "execution_count": 81,
   "metadata": {},
   "outputs": [],
   "source": [
    "myDataFrame.to_pickle('imported_data_2018.10.12_bump_BWS65.pkl')"
   ]
  },
  {
   "cell_type": "markdown",
   "metadata": {},
   "source": [
    "# Load some optics data"
   ]
  },
  {
   "cell_type": "code",
   "execution_count": 83,
   "metadata": {
    "scrolled": true
   },
   "outputs": [],
   "source": [
    "mc = metaclass.twiss('/eos/user/e/esenes/Emittance-accuracy-measurement/MADx_bumps/ps_6.21_6.24.twiss')"
   ]
  },
  {
   "cell_type": "code",
   "execution_count": 84,
   "metadata": {},
   "outputs": [
    {
     "name": "stdout",
     "output_type": "stream",
     "text": [
      "Corrector 61 at 379.3911184 m\n",
      "Corrector 63 at 391.397489 m\n",
      "Corrector 65 at 403.4038597 m\n",
      "Corrector 67 at 416.8102303 m\n",
      "Displacement difference between the BPM65 and the wirescanner is -9.949666e-07 m\n"
     ]
    },
    {
     "data": {
      "image/png": "[encoded data removed]",
      "text/plain": [
       "<matplotlib.figure.Figure at 0x7f9565c035d0>"
      ]
     },
     "metadata": {},
     "output_type": "display_data"
    }
   ],
   "source": [
    "plt.plot(mc.S, 1e3*mc.X)\n",
    "plt.xlabel('s (m)')\n",
    "plt.ylabel('x (mm)')\n",
    "plt.xlim(375,420)\n",
    "\n",
    "print('Corrector 61 at '+str(mc.S[np.argwhere(np.array(mc.NAME) == 'PR.BHZ61')[0][0]])+' m')\n",
    "print('Corrector 63 at '+str(mc.S[np.argwhere(np.array(mc.NAME) == 'PR.BHZ63')[0][0]])+' m')\n",
    "print('Corrector 65 at '+str(mc.S[np.argwhere(np.array(mc.NAME) == 'PR.BHZ65')[0][0]])+' m')\n",
    "print('Corrector 67 at '+str(mc.S[np.argwhere(np.array(mc.NAME) == 'PR.BHZ67')[0][0]])+' m')\n",
    "\n",
    "\n",
    "bpmIdx = np.argwhere(np.array(mc.NAME) == 'PR.BPM65')[0][0]\n",
    "wsIdx = np.argwhere(np.array(mc.NAME) == 'PR.BWSH65')[0][0]\n",
    "print('Displacement difference between the BPM65 and the wirescanner is '+str(mc.X[bpmIdx]-mc.X[wsIdx]) + ' m')"
   ]
  },
  {
   "cell_type": "code",
   "execution_count": 85,
   "metadata": {},
   "outputs": [
    {
     "name": "stdout",
     "output_type": "stream",
     "text": [
      "Corrector 61 at 390.597489 m\n",
      "Corrector 63 at 396.5006744 m\n",
      "Corrector 65 at 415.8102303 m\n",
      "Displacement difference between the BPM63 and the wirescanner is 1.72168748e-05 m\n",
      "Displacement difference between the BPM64 and the wirescanner is 3.48464392e-05 m\n",
      "Displacement difference between the BPM67 and the wirescanner is 0.000142728198809 m\n"
     ]
    }
   ],
   "source": [
    "# other BPMs\n",
    "print('Corrector 61 at '+str(mc.S[np.argwhere(np.array(mc.NAME) == 'PR.BPM63')[0][0]])+' m')\n",
    "print('Corrector 63 at '+str(mc.S[np.argwhere(np.array(mc.NAME) == 'PR.BPM64')[0][0]])+' m')\n",
    "print('Corrector 65 at '+str(mc.S[np.argwhere(np.array(mc.NAME) == 'PR.BPM67')[0][0]])+' m')\n",
    "\n",
    "bpmIdx = np.argwhere(np.array(mc.NAME) == 'PR.BPM63')[0][0]\n",
    "wsIdx = np.argwhere(np.array(mc.NAME) == 'PR.BWSH65')[0][0]\n",
    "print('Displacement difference between the BPM63 and the wirescanner is '+str(mc.X[bpmIdx]-mc.X[wsIdx]) + ' m')\n",
    "corr63 = mc.X[wsIdx]/mc.X[bpmIdx]\n",
    "\n",
    "bpmIdx = np.argwhere(np.array(mc.NAME) == 'PR.BPM64')[0][0]\n",
    "print('Displacement difference between the BPM64 and the wirescanner is '+str(mc.X[bpmIdx]-mc.X[wsIdx]) + ' m')\n",
    "corr64 = mc.X[wsIdx]/mc.X[bpmIdx]\n",
    "\n",
    "bpmIdx = np.argwhere(np.array(mc.NAME) == 'PR.BPM67')[0][0]\n",
    "print('Displacement difference between the BPM67 and the wirescanner is '+str(mc.X[bpmIdx]-mc.X[wsIdx]) + ' m')\n",
    "corr67 = mc.X[wsIdx]/mc.X[bpmIdx]\n"
   ]
  },
  {
   "cell_type": "markdown",
   "metadata": {
    "collapsed": true
   },
   "source": [
    "# Calculate wire scanner emittance\n",
    "## X plane\n",
    "### Traditional method"
   ]
  },
  {
   "cell_type": "code",
   "execution_count": 87,
   "metadata": {},
   "outputs": [],
   "source": [
    "# Wirescanner sigma\n",
    "#position data cleanup (sort, get unique values and the idxes) and conversion to mm\n",
    "myDataFrame['BWS65_position'] = myDataFrame['PR_BWS_65_H_ROT.Acquisition.value.projPositionSet1'].apply(lambda x: np.unique(x, return_index=True)[0]*1e-3)\n",
    "myDataFrame['BWS65_position_idx'] = myDataFrame['PR_BWS_65_H_ROT.Acquisition.value.projPositionSet1'].apply(lambda x: np.unique(x, return_index=True)[1])\n",
    "\n",
    "#instantiate an array object for the result in the frame\n",
    "myDataFrame['BWS65_data'] = myDataFrame['BWS65_position_idx'].apply(lambda x: np.empty(len(x)))\n",
    "pos = np.arange(-50, 50, 0.05)\n",
    "\n",
    "row, col = myDataFrame.shape\n",
    "\n",
    "for r in xrange(row):\n",
    "    myDataFrame['BWS65_data'].iloc[r] = np.interp(pos, myDataFrame['BWS65_position'].iloc[r], myDataFrame['PR_BWS_65_H_ROT.Acquisition.value.projDataSet1'].iloc[r][myDataFrame['BWS65_position_idx'].iloc[r]])  \n",
    "    \n",
    "#do the fit and get the sigma in mm\n",
    "myDataFrame['WS_fit_results_x'] = myDataFrame['BWS65_data'].apply(lambda x: myToolbox.makeGaussianFit_5_parameters(pos,x))\n",
    "myDataFrame['WS_sigma_x'] = myDataFrame['WS_fit_results_x'].apply(lambda x: x[0][-1])\n",
    "myDataFrame['WS_centre_x'] = myDataFrame['WS_fit_results_x'].apply(lambda x: x[0][-2])"
   ]
  },
  {
   "cell_type": "markdown",
   "metadata": {},
   "source": [
    "## Using BPM data instead of the amplitude from YASP\n"
   ]
  },
  {
   "cell_type": "code",
   "execution_count": 88,
   "metadata": {},
   "outputs": [],
   "source": [
    "myDataFrame['Orbit'] = 0.1*myDataFrame['PR_BPM.AcquisitionOrbit.value.position']\n",
    "myDataFrame['Orbit_timestamp'] = myDataFrame['PR_BPM.AcquisitionOrbit.value.measStamp']\n",
    "\n",
    "myDataFrame['beam_position'] = myDataFrame['Orbit'].apply(lambda x: np.mean(x[28,325:335]))\n",
    "myDataFrame['beam_position63'] = myDataFrame['Orbit'].apply(lambda x: np.mean(x[26,325:335])*corr63)\n",
    "myDataFrame['beam_position64'] = myDataFrame['Orbit'].apply(lambda x: np.mean(x[27,325:335])*corr64)"
   ]
  },
  {
   "cell_type": "code",
   "execution_count": null,
   "metadata": {},
   "outputs": [],
   "source": [
    "fig, ax = plt.subplots(1,figsize=(15,7))\n",
    "\n",
    "from scipy.optimize import curve_fit\n",
    "def lin(x, a, b):\n",
    "    return a + b*x\n",
    "\n",
    "# BPMs\n",
    "print('BPMs')\n",
    "xx = myDataFrame['beam_position']\n",
    "yy = myDataFrame['WS_centre_x']\n",
    "ax.plot(xx, yy, 'o',label=('BPM65'))\n",
    "ax.set_xlabel('BPM bump amplitude reported to BWS65 (mm)')\n",
    "ax.set_ylabel('WS fit centre (mm)')\n",
    "popt, pcov = curve_fit(lin, xx, yy )\n",
    "print(popt, np.sqrt(np.diag(pcov)))\n",
    "ax.plot(xx, lin(xx, *popt),label='fit: slope='+str(popt[-1]))\n",
    "#---\n",
    "xx = myDataFrame['beam_position63']\n",
    "yy = myDataFrame['WS_centre_x']\n",
    "ax.plot(xx, yy, 'o',label=('BPM63 corrected'))\n",
    "popt, pcov = curve_fit(lin, xx, yy )\n",
    "print(popt, np.sqrt(np.diag(pcov)))\n",
    "ax.plot(xx, lin(xx, *popt),label='fit: slope='+str(popt[-1]))\n",
    "#---\n",
    "xx = myDataFrame['beam_position64']\n",
    "yy = myDataFrame['WS_centre_x']\n",
    "ax.plot(xx, yy, 'o',label=('BPM64 corrected'))\n",
    "popt, pcov = curve_fit(lin, xx, yy )\n",
    "print(popt, np.sqrt(np.diag(pcov)))\n",
    "ax.plot(xx, lin(xx, *popt),label='fit: slope='+str(popt[-1]))\n",
    "\n",
    "ax.legend(frameon=True)\n",
    "\n",
    "fig.tight_layout()"
   ]
  },
  {
   "cell_type": "code",
   "execution_count": 133,
   "metadata": {},
   "outputs": [
    {
     "data": {
      "text/plain": [
       "[<matplotlib.lines.Line2D at 0x7f94bda55290>]"
      ]
     },
     "execution_count": 133,
     "metadata": {},
     "output_type": "execute_result"
    },
    {
     "data": {
      "image/png": "[encoded data removed]",
      "text/plain": [
       "<matplotlib.figure.Figure at 0x7f94bdb3f810>"
      ]
     },
     "metadata": {},
     "output_type": "display_data"
    }
   ],
   "source": [
    "xx = myDataFrame['beam_position'][29]\n",
    "yy = myDataFrame['WS_centre_x'][29]\n",
    "\n",
    "plt.plot(xx,yy,'o')"
   ]
  },
  {
   "cell_type": "code",
   "execution_count": 124,
   "metadata": {},
   "outputs": [
    {
     "data": {
      "text/plain": [
       "[<matplotlib.lines.Line2D at 0x7f94be14b990>]"
      ]
     },
     "execution_count": 124,
     "metadata": {},
     "output_type": "execute_result"
    },
    {
     "data": {
      "image/png": "[encoded data removed]",
      "text/plain": [
       "<matplotlib.figure.Figure at 0x7f94bdfde4d0>"
      ]
     },
     "metadata": {},
     "output_type": "display_data"
    }
   ],
   "source": [
    "plt.plot(xx,'o')"
   ]
  },
  {
   "cell_type": "code",
   "execution_count": 134,
   "metadata": {},
   "outputs": [
    {
     "data": {
      "text/plain": [
       "Timestamp('2018-10-12 23:31:54.700000')"
      ]
     },
     "execution_count": 134,
     "metadata": {},
     "output_type": "execute_result"
    }
   ],
   "source": [
    "myDataFrame.index[29]"
   ]
  },
  {
   "cell_type": "code",
   "execution_count": null,
   "metadata": {},
   "outputs": [],
   "source": []
  }
 ],
 "metadata": {
  "kernelspec": {
   "display_name": "Python 2",
   "language": "python",
   "name": "python2"
  },
  "language_info": {
   "codemirror_mode": {
    "name": "ipython",
    "version": 2
   },
   "file_extension": ".py",
   "mimetype": "text/x-python",
   "name": "python",
   "nbconvert_exporter": "python",
   "pygments_lexer": "ipython2",
   "version": "2.7.13"
  }
 },
 "nbformat": 4,
 "nbformat_minor": 2
}
